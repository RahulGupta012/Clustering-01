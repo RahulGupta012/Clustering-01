{
 "cells": [
  {
   "cell_type": "markdown",
   "id": "bb8f1bd1-d461-4e8c-a181-da65516a7a9c",
   "metadata": {},
   "source": [
    "<div style=\"background-color: #3498db; padding: 10px; border-radius: 10px; text-align: center;\">\n",
    "    <h1 style=\"color: white;\">Clustering 01</h1>\n",
    "</div>\n"
   ]
  },
  {
   "cell_type": "markdown",
   "id": "52bcc509-80e3-4b92-9960-ca1f15899048",
   "metadata": {},
   "source": [
    "# Q1. What are the different types of clustering algorithms, and how do they differ in terms of their approach and underlying assumptions?"
   ]
  },
  {
   "cell_type": "markdown",
   "id": "ff4a6d28-7ea7-4d84-b904-731da27a45dd",
   "metadata": {},
   "source": [
    "Clustering is basically means to categories the datapoints into certain groups according to there identity. Different types of gruops has been created by the clustering which are represents the different characterstics. These comes under `unsupervised mechine learning algorithem` , which means it has no output at all , these alorithems are made for classified the datapoints into groups of datapoints.There are three type of clustering algorithems are popular :\n",
    "\n",
    "1. K-means Clusetring\n",
    "2. Hierarchical  Clustering\n",
    "3. DBSCAN Clustering\n",
    "\n",
    "`K- means Clusetring`\n",
    "- **approach :** Use centriod method for Dividing the dataset into a predefined number (k) of clusters.\n",
    "- **Assumptions :** It takes the datapoints which are nearest to the centroids.\n",
    "\n",
    "\n",
    "`Hierarchical Clustering`\n",
    "- **approach :** Instead of using centroid method it takes each datapoints as a cluster and then making a another cluster by the previous clusters and so on..\n",
    "- **Assumptions :** Does not consider the centroid method and go to the each datapoints.\n",
    "\n",
    "`DBSACN Clustering`\n",
    "- **approach :** Identifies clusters based on the density of data points.\n",
    "- **Assumptions :** It is robust to outliers as it identify outliers as a different category/point.\n",
    "\n",
    "\n"
   ]
  },
  {
   "cell_type": "markdown",
   "id": "b32f89fd-1861-4007-9003-dd779a231278",
   "metadata": {},
   "source": [
    "# Q2.What is K-means clustering, and how does it work?"
   ]
  },
  {
   "cell_type": "markdown",
   "id": "120f118c-ffbb-4ad7-8d66-6c43d1b0ae57",
   "metadata": {},
   "source": [
    "K- means clustering is an unsupervised machine learning algorithem , which is used for grouping the datapoints into certain criterion or basis.K-means clusters are clearly seprated from each other ie..they never be overlaped.It is used to understand the underlying petterns in the dataset.The algorithm is widely used in various fields, such as image segmentation, customer segmentation, and anomaly detection. K-means clustering has been performed in three steps which is reapated untill the perfect clusers are made. These steps are :\n",
    "\n",
    "1. Intilizing some k ---> Centroids\n",
    "2. Points that are nearest to the centroids ---> Group\n",
    "3. Move to centroid ---> Mean\n",
    "\n",
    "\n",
    "- 1. Some k values need to be defined as the number of centriods . For defing such number we used a method called ..elbow method. Which are illusarated in answer 04.\n",
    " \n",
    "- 2. after defining the k value, we calculate the distance of a datapoint to the all centroids by using  Euclidean distance and Manhattan distance. and assign the datapoints to the clusers on the basis of minimumb distance ..it..closest from the cluster.\n",
    " \n",
    "- 3. Recalculate the centroids of the clusters by taking the mean of all data points assigned to each cluster.The new centroids represent the updated center of each cluster.\n",
    " \n",
    " Repeat these all steps till the best possible senario."
   ]
  },
  {
   "cell_type": "markdown",
   "id": "45551e42-70e3-4354-8d89-99d01cddd8dd",
   "metadata": {},
   "source": [
    "# Q3. What are some advantages and limitations of K-means clustering compared to other clustering techniques?"
   ]
  },
  {
   "cell_type": "markdown",
   "id": "6e8ee20c-7d0e-4e20-87cf-508458bf59ef",
   "metadata": {},
   "source": [
    "K-means clustering is a good unsupervised algorithem as it is simple and easy , however there are also some disadvatages of using k-means clustering. Both advanatages and disadvatages are shown below ;\n",
    "\n",
    "`Advantages of K-MEANS Clustering `\n",
    "\n",
    "**Computetional Efficiency :** K-means clustering is preferable for the big data set in spite of other clusterings as Hieracichal clustering. Because it has a a definable value ok K centroid. and it does not go for the squncial processing of all data points as hieracichal clustering.It is simple to use and impliment and designed for high daimentional data as well.\n",
    "\n",
    "**Spherical Clusters:** K-means works well when clusters are spherical and equally sized.By the spherical clusters, distribution of data points is clear and distinct, which simplifies the interpretation of the data.\n",
    "\n",
    "`Disadvantages of K-MEANS Clustering`\n",
    "\n",
    "**Not for Categorical Data :** When it comes to categorical data problem will arises with the k-means clustering as it is only designed for the numerical data or continoues vlaues.\n",
    "\n",
    "**Not robust to Outliers:** K-means is sensitive to outliers,as the DBSCAN Clustering. and their presence can significantly impact cluster assignments.\n",
    "\n",
    "**Sensitive to Initial Centroids:** The algorithm's performance can be sensitive to the initial placement of centroids. Different initializations can lead to different final cluster assignments.\n",
    "\n",
    "**Global Minimum:** K-means aims to find a global minimum for the sum of squared distances, which may not always represent the most meaningful clustering for the data.\n",
    "\n"
   ]
  },
  {
   "cell_type": "markdown",
   "id": "9f8a588a-8b49-4b6b-adad-dd52021b4dc9",
   "metadata": {},
   "source": [
    "# Q4. How do you determine the optimal number of clusters in K-means clustering, and what are some common methods for doing so?"
   ]
  },
  {
   "attachments": {
    "36fcf5e8-9b75-4be0-baf1-91a433e85d1b.PNG": {
     "image/png": "[encoded data removed]"
    }
   },
   "cell_type": "markdown",
   "id": "30d28904-c61a-482d-afcc-ccb7a9102b53",
   "metadata": {},
   "source": [
    "Optimal number of clusters, which we call as k value is very important in the k-means clustering as it is the vary first step to proceed in such a algorithem. It determine the number of centriods to make the clusters of the datapoints. There are some methods ..ie..elbow method, which can be used to determine the k value for this algorithem, which are illusarated ;\n",
    "\n",
    "**Elbow Method :** It is a manual method to determine the value of k for k-means clustering. In this method we draw a (wcss vs proabale k value) graph, which seems like elbow. as it is in descending order because as we incresing the k value , wcss value is decresed and at one point of time it will become continuoues. The point when the k value become continues or stable is the k-value.\n",
    "\n",
    "wcss = within cluster sum of squares\n",
    "\n",
    "![WCSS.PNG](attachment:36fcf5e8-9b75-4be0-baf1-91a433e85d1b.PNG)\n",
    "\n",
    "\n",
    "**Silhouette Score:**\n",
    "The silhouette score measures how similar an object is to its own cluster (cohesion) compared to other clusters (separation).\n",
    "Compute the silhouette score for different values of k.\n",
    "Choose the k that maximizes the silhouette score. A higher silhouette score indicates better-defined clusters.\n",
    "\n",
    "**Hyperperameter Tunning :** By hyperparameter tunning we can also find the best k-value according to sitution of the dataset , Gridsearch cv and randiomize search cv can be used for such opreations."
   ]
  },
  {
   "cell_type": "markdown",
   "id": "a7de48fd-59ff-40b8-8f68-6709352cd413",
   "metadata": {},
   "source": [
    "# Q5. What are some applications of K-means clustering in real-world scenarios, and how has it been used to solve specific problems?"
   ]
  },
  {
   "cell_type": "markdown",
   "id": "698b9d9c-c9f0-4597-a119-ebf47ce4c23e",
   "metadata": {},
   "source": [
    "K-means clustering is a very importnat unsupervised machine learning algorithem, which is used for many real-world problems. Such as \n",
    "- Customer Segament\n",
    "- Image Segament\n",
    "- Anomaly Detection\n",
    "- Document Clustering"
   ]
  },
  {
   "cell_type": "markdown",
   "id": "61490514-9a51-4b8e-93be-0a3e38349a36",
   "metadata": {},
   "source": [
    "# Q6. How do you interpret the output of a K-means clustering algorithm, and what insights can you derive from the resulting clusters?"
   ]
  },
  {
   "cell_type": "markdown",
   "id": "3d968ec7-3eca-4efa-978c-fddf5bc2236e",
   "metadata": {},
   "source": [
    "The result of K-means clustering can give us a great insights about the data. It helps us to learn the nature and behaviour of the data.By categorising the datapoints we can infer the various classes within the data.\n",
    "\n",
    "- Each centroid tells about the mean of the datapoints. By comparing the the avrages of different clusters, we can find the avrage behaviour of the data.\n",
    "- By comparing the two clusters we can know the weightage of certain kind of behaviour in the data.We can infer about the dominate class of the data.\n",
    "- Lower WCSS values suggest more tightly grouped clusters, indicating better separation."
   ]
  },
  {
   "cell_type": "markdown",
   "id": "f860906e-a9c0-4246-8526-af2aa24691ce",
   "metadata": {},
   "source": [
    "# Q7. What are some common challenges in implementing K-means clustering, and how can you address them?"
   ]
  },
  {
   "cell_type": "markdown",
   "id": "25f36aef-69d6-46e3-a4c5-fb497705c924",
   "metadata": {},
   "source": [
    "**Outliers :** k-means clustering has a big problem of outliers as it is not rebust to outliers. To solve this problems we can use the techniques ..ie..feature sclaing normalization.\n",
    "\n",
    "**Categorical values :** as we know that k-means clustering is designed for numerical values as it is not compitable for categorical values so we can use encoding techniques for transforming the categorical values into numerical.\n",
    "\n",
    "**Computational Complexity :** computetional complexity can be reduced by the daimensionality reduction techniques."
   ]
  }
 ],
 "metadata": {
  "kernelspec": {
   "display_name": "Python 3 (ipykernel)",
   "language": "python",
   "name": "python3"
  },
  "language_info": {
   "codemirror_mode": {
    "name": "ipython",
    "version": 3
   },
   "file_extension": ".py",
   "mimetype": "text/x-python",
   "name": "python",
   "nbconvert_exporter": "python",
   "pygments_lexer": "ipython3",
   "version": "3.10.8"
  }
 },
 "nbformat": 4,
 "nbformat_minor": 5
}
